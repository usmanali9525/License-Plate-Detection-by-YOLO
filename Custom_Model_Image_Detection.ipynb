{
 "cells": [
  {
   "cell_type": "code",
   "execution_count": 13,
   "metadata": {},
   "outputs": [],
   "source": [
    "from ultralytics import YOLO\n",
    "import cv2\n",
    "import easyocr\n",
    "import re"
   ]
  },
  {
   "cell_type": "code",
   "execution_count": 14,
   "metadata": {},
   "outputs": [],
   "source": [
    "model = YOLO(r'Models\\best.pt')\n",
    "reader = easyocr.Reader(['en'])"
   ]
  },
  {
   "cell_type": "code",
   "execution_count": 15,
   "metadata": {},
   "outputs": [],
   "source": [
    "def process_image(image_path):\n",
    "    # Load the static image\n",
    "    frame = cv2.imread(image_path)\n",
    "    #img = cv2.cvtColor(frame, cv2.COLOR_BGR2RGB)\n",
    "\n",
    "    # Resize image to a smaller size\n",
    "    resized_img = cv2.resize(frame, (640, 480))\n",
    "\n",
    "    # Object detection using YOLO with a lower confidence threshold\n",
    "    results = model.predict(resized_img)\n",
    "\n",
    "    for r in results:\n",
    "        boxes = r.boxes\n",
    "\n",
    "        for box in boxes:\n",
    "            b = box.xyxy[0]\n",
    "            plate_roi = resized_img[int(b[1]):int(b[3]), int(b[0]):int(b[2])]\n",
    "\n",
    "            # OCR on the plate region\n",
    "            number_plate_results = reader.readtext(plate_roi)\n",
    "            number_plate_text = ''\n",
    "            for result in number_plate_results:\n",
    "                text = result[1]\n",
    "                # Remove special characters using regular expression\n",
    "                text = re.sub(r'[^a-zA-Z0-9\\s]', '', text)\n",
    "                number_plate_text += text + ' '\n",
    "\n",
    "            # Print the results\n",
    "            print(f\"Plate Coordinates: {b}\")\n",
    "            print(f\"Number Plate Text: {number_plate_text}\")"
   ]
  },
  {
   "cell_type": "code",
   "execution_count": 16,
   "metadata": {},
   "outputs": [
    {
     "name": "stderr",
     "output_type": "stream",
     "text": [
      "\n",
      "0: 480x640 1 0, 28.0ms\n",
      "Speed: 5.0ms preprocess, 28.0ms inference, 3.0ms postprocess per image at shape (1, 3, 480, 640)\n"
     ]
    },
    {
     "name": "stdout",
     "output_type": "stream",
     "text": [
      "Plate Coordinates: tensor([284.0851, 293.4799, 371.0901, 335.0911], device='cuda:0')\n",
      "Number Plate Text: LEA 1856 \n"
     ]
    }
   ],
   "source": [
    "image_path = 'Car Images\\DSC_0968.JPG'\n",
    "process_image(image_path)"
   ]
  }
 ],
 "metadata": {
  "kernelspec": {
   "display_name": "Python 3",
   "language": "python",
   "name": "python3"
  },
  "language_info": {
   "codemirror_mode": {
    "name": "ipython",
    "version": 3
   },
   "file_extension": ".py",
   "mimetype": "text/x-python",
   "name": "python",
   "nbconvert_exporter": "python",
   "pygments_lexer": "ipython3",
   "version": "3.11.3"
  },
  "orig_nbformat": 4
 },
 "nbformat": 4,
 "nbformat_minor": 2
}
