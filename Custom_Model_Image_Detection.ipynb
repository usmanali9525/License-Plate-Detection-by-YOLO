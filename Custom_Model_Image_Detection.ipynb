{
 "cells": [
  {
   "cell_type": "code",
   "execution_count": 1,
   "metadata": {},
   "outputs": [],
   "source": [
    "from ultralytics import YOLO\n",
    "import cv2\n",
    "import easyocr\n",
    "import re"
   ]
  },
  {
   "cell_type": "code",
   "execution_count": 2,
   "metadata": {},
   "outputs": [],
   "source": [
    "model = YOLO(r'Models\\best.pt')\n",
    "reader = easyocr.Reader(['en'])"
   ]
  },
  {
   "cell_type": "code",
   "execution_count": 3,
   "metadata": {},
   "outputs": [],
   "source": [
    "def process_image(image_path):\n",
    "    frame = cv2.imread(image_path)\n",
    "    resized_img = cv2.resize(frame, (640, 480))\n",
    "    results = model.predict(resized_img)\n",
    "\n",
    "    output_data = []\n",
    "\n",
    "    for r in results:\n",
    "        boxes = r.boxes\n",
    "        for box in boxes:\n",
    "            b = box.xyxy[0]\n",
    "            plate_roi = resized_img[int(b[1]):int(b[3]), int(b[0]):int(b[2])]\n",
    "\n",
    "            number_plate_results = reader.readtext(plate_roi)\n",
    "            number_plate_text = ''\n",
    "            for result in number_plate_results:\n",
    "                text = result[1]\n",
    "\n",
    "                text = re.sub(r'[^a-zA-Z0-9\\s]', '', text)\n",
    "                number_plate_text += text + ' '\n",
    "\n",
    "\n",
    "            number_plate_text = number_plate_text.replace(\" \", \"\").upper()  \n",
    "            number_plate_text = re.sub(r'[^a-zA-Z0-9]', '', number_plate_text)  \n",
    "\n",
    "\n",
    "            expected_format = re.compile(r'^[A-Z0-9]{1,10}$')\n",
    "            if expected_format.match(number_plate_text):\n",
    "\n",
    "\n",
    "                    output_data.append({\n",
    "                        \"Plate Coordinates\": list(map(int, b)),\n",
    "                        \"Number Plate Text\": number_plate_text.strip()\n",
    "                    })\n",
    "\n",
    "    #print(\"Output Data:\", output_data)\n",
    "    return output_data"
   ]
  },
  {
   "cell_type": "code",
   "execution_count": 11,
   "metadata": {},
   "outputs": [
    {
     "name": "stderr",
     "output_type": "stream",
     "text": [
      "\n",
      "0: 480x640 1 0, 134.7ms\n",
      "Speed: 8.0ms preprocess, 134.7ms inference, 3.5ms postprocess per image at shape (1, 3, 480, 640)\n"
     ]
    },
    {
     "data": {
      "text/plain": [
       "[{'Plate Coordinates': [316, 340, 410, 391], 'Number Plate Text': 'AFR2012'}]"
      ]
     },
     "execution_count": 11,
     "metadata": {},
     "output_type": "execute_result"
    }
   ],
   "source": [
    "image_path = r'Car Images\\Test Image 8.jpg'\n",
    "process_image(image_path)"
   ]
  },
  {
   "cell_type": "code",
   "execution_count": null,
   "metadata": {},
   "outputs": [],
   "source": []
  }
 ],
 "metadata": {
  "kernelspec": {
   "display_name": "Python 3",
   "language": "python",
   "name": "python3"
  },
  "language_info": {
   "codemirror_mode": {
    "name": "ipython",
    "version": 3
   },
   "file_extension": ".py",
   "mimetype": "text/x-python",
   "name": "python",
   "nbconvert_exporter": "python",
   "pygments_lexer": "ipython3",
   "version": "3.11.3"
  },
  "orig_nbformat": 4
 },
 "nbformat": 4,
 "nbformat_minor": 2
}
