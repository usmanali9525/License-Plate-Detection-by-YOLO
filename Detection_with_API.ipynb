{
 "cells": [
  {
   "cell_type": "code",
   "execution_count": 1,
   "metadata": {},
   "outputs": [],
   "source": [
    "from roboflow import Roboflow\n",
    "import cv2\n",
    "import easyocr"
   ]
  },
  {
   "cell_type": "code",
   "execution_count": 2,
   "metadata": {},
   "outputs": [
    {
     "name": "stdout",
     "output_type": "stream",
     "text": [
      "loading Roboflow workspace...\n",
      "loading Roboflow project...\n"
     ]
    }
   ],
   "source": [
    "rf = Roboflow(api_key=\"J2i0T6688rYAWqouoqfp\")\n",
    "project = rf.workspace().project(\"license-plates-detection-anpr\")\n",
    "model = project.version(1).model"
   ]
  },
  {
   "cell_type": "code",
   "execution_count": 7,
   "metadata": {},
   "outputs": [],
   "source": [
    "imgpath = 'Car Images\\DSC_0973.JPG'\n",
    "prediction_data = model.predict(imgpath, confidence=60, overlap=30).json()"
   ]
  },
  {
   "cell_type": "code",
   "execution_count": 8,
   "metadata": {},
   "outputs": [],
   "source": [
    "predictions = prediction_data['predictions'][0]"
   ]
  },
  {
   "cell_type": "code",
   "execution_count": 9,
   "metadata": {},
   "outputs": [],
   "source": [
    "x = predictions['x']\n",
    "y = predictions['y']\n",
    "width = predictions['width']\n",
    "height = predictions['height']\n",
    "\n",
    "image = cv2.imread(imgpath)\n",
    "\n",
    "x = int(x - width / 2)\n",
    "y = int(y - height / 2)\n",
    "\n",
    "cropped_image = image[y:y+height, x:x+width]"
   ]
  },
  {
   "cell_type": "code",
   "execution_count": 10,
   "metadata": {},
   "outputs": [
    {
     "name": "stdout",
     "output_type": "stream",
     "text": [
      "Detected Text 1: MND\n",
      "Detected Text 2: 15\n",
      "Detected Text 3: 464\n"
     ]
    }
   ],
   "source": [
    "reader = easyocr.Reader(['en'])\n",
    "result = reader.readtext(cropped_image)\n",
    "\n",
    "font = cv2.FONT_HERSHEY_SIMPLEX \n",
    "font_scale = 1.0                \n",
    "font_thickness = 2              \n",
    "\n",
    "detected_texts = []\n",
    "\n",
    "for detection in result:\n",
    "    top_left = tuple(detection[0][0])\n",
    "    bottom_right = tuple(detection[0][2])\n",
    "\n",
    "    text = detection[1]\n",
    "\n",
    "    detected_texts.append(text)\n",
    "\n",
    "for i, text in enumerate(detected_texts):\n",
    "    print(f\"Detected Text {i + 1}: {text}\")"
   ]
  }
 ],
 "metadata": {
  "kernelspec": {
   "display_name": "Python 3",
   "language": "python",
   "name": "python3"
  },
  "language_info": {
   "codemirror_mode": {
    "name": "ipython",
    "version": 3
   },
   "file_extension": ".py",
   "mimetype": "text/x-python",
   "name": "python",
   "nbconvert_exporter": "python",
   "pygments_lexer": "ipython3",
   "version": "3.11.3"
  },
  "orig_nbformat": 4
 },
 "nbformat": 4,
 "nbformat_minor": 2
}
